{
 "cells": [
  {
   "cell_type": "code",
   "execution_count": 1,
   "id": "5710e7f9-a3ca-4aaf-8e70-7fd3d6543c9e",
   "metadata": {},
   "outputs": [
    {
     "data": {
      "application/vnd.jupyter.widget-view+json": {
       "model_id": "d0ca8742da904cfca3fa78bb0e3ca0e3",
       "version_major": 2,
       "version_minor": 0
      },
      "text/plain": [
       "FileChooser(path='C:\\Users\\LAB-ADMIN\\Desktop\\pipeline-program\\analysis_results', filename='', title='WT distri…"
      ]
     },
     "metadata": {},
     "output_type": "display_data"
    },
    {
     "data": {
      "application/vnd.jupyter.widget-view+json": {
       "model_id": "60dd9e254b994238b22f3132ef08a5fc",
       "version_major": 2,
       "version_minor": 0
      },
      "text/plain": [
       "Text(value='', placeholder='Title to use in plot')"
      ]
     },
     "metadata": {},
     "output_type": "display_data"
    },
    {
     "data": {
      "application/vnd.jupyter.widget-view+json": {
       "model_id": "187a016db3194378a850309cd7891905",
       "version_major": 2,
       "version_minor": 0
      },
      "text/plain": [
       "Output()"
      ]
     },
     "metadata": {},
     "output_type": "display_data"
    }
   ],
   "source": [
    "import ipywidgets as widgets\n",
    "import pandas as pd\n",
    "from IPython.core.display import display\n",
    "from IPython.display import clear_output\n",
    "from ipyfilechooser import FileChooser\n",
    "from scipy import stats\n",
    "import numpy as np\n",
    "import statsmodels.api as sm\n",
    "from statsmodels.graphics.gofplots import qqplot_2samples\n",
    "import matplotlib.pyplot as plt\n",
    "wt = FileChooser('C:/Users/LAB-ADMIN/Desktop/pipeline-program/analysis_results')\n",
    "wt.filter_pattern = ['wt_*.csv']\n",
    "wt.title = \"WT distribution\"\n",
    "wt_dist = None\n",
    "\n",
    "output = widgets.Output()\n",
    "voxel_size = 7.536e-6\n",
    "\n",
    "def wt_selection(chooser):\n",
    "    global wt_dist\n",
    "    wt_dist = pd.read_csv(chooser.selected, index_col=False).iloc[:,1:] # drop index col\n",
    "    ncr1_dist = pd.read_csv(f\"{chooser.selected_path}/ncr1{chooser.selected_filename[2:]}\", index_col=False).iloc[:,1:]\n",
    "    npc2_dist = pd.read_csv(f\"{chooser.selected_path}/npc2{chooser.selected_filename[2:]}\", index_col=False).iloc[:,1:]\n",
    "    with output:\n",
    "        clear_output()\n",
    "        display(f\"Statistics for {chooser.selected_filename}...\")\n",
    "        # get pure number arrays\n",
    "        wt_array = np.array(wt_dist)[:,0] * voxel_size\n",
    "        ncr1_array = np.array(ncr1_dist)[:,0] * voxel_size\n",
    "        npc2_array = np.array(npc2_dist)[:,0] * voxel_size\n",
    "        # KDE\n",
    "        wt_kde = stats.gaussian_kde(wt_array)        \n",
    "        ncr1_kde = stats.gaussian_kde(ncr1_array)\n",
    "        npc2_kde = stats.gaussian_kde(npc2_array)\n",
    "        # get x values to plot\n",
    "        min_x = min(wt_array.min(),ncr1_array.min(),npc2_array.min())\n",
    "        max_x = max(wt_array.max(),ncr1_array.max(),npc2_array.max())\n",
    "        dif = max_x - min_x\n",
    "        xx = np.linspace(min_x - dif/10,max_x + dif/10 , 10000)\n",
    "        # plot each KDE\n",
    "        fig, ax = plt.subplots(figsize=(9,7))\n",
    "        ax.plot(xx, wt_kde(xx), label=f\"WT n={len(wt_array)}\")\n",
    "        ax.plot(xx, ncr1_kde(xx), label=f\"NCR1 n={len(ncr1_array)}\")\n",
    "        ax.plot(xx, npc2_kde(xx), label=f\"NPC2 n={len(npc2_array)}\")\n",
    "        ax.set_xlabel('volume µm³')\n",
    "        ax.set_ylabel('density')\n",
    "        #ax.set_yscale(\"log\")\n",
    "        ax.legend()\n",
    "        plt.title(title_selector.value)\n",
    "        plt.show()\n",
    "\n",
    "        # Mann-Whitney U-Test  \n",
    "        U, p = stats.mannwhitneyu(wt_array, ncr1_array, method=\"exact\")\n",
    "        display(f\"Mann-Whitney U-Test (NCR1) - U: {U} p-value: {p}\")\n",
    "        U, p = stats.mannwhitneyu(wt_array, npc2_array, method=\"exact\")\n",
    "        display(f\"Mann-Whitney U-Test (NPC2) - U: {U} p-value: {p}\")\n",
    "        # Kolmogorov–Smirnov test\n",
    "        KS, p = stats.kstest(ncr1_array,wt_array)\n",
    "        display(f\"Kolmogorov–Smirnov test (NCR1) - KS: {KS} p-value: {p}\")\n",
    "        KS, p = stats.kstest(npc2_array,wt_array)\n",
    "        display(f\"Kolmogorov–Smirnov test (NPC2) - KS: {KS} p-value: {p}\")        \n",
    "        # Q-Q plot\n",
    "        display(\"Q-Q plot (NCR1)\")\n",
    "        qqplot_2samples(wt_array, ncr1_array, xlabel=\"Quantiles of WT\", ylabel=f\"Quantiles of NCR1\", line=\"45\")\n",
    "        plt.show()\n",
    "        display(\"Q-Q plot (NPC2)\")\n",
    "        qqplot_2samples(wt_array, npc2_array, xlabel=\"Quantiles of WT\", ylabel=f\"Quantiles of NPC2\", line=\"45\")        \n",
    "        #fig = sm.qqplot(cmp_array, kde_dist, line=\"45\")\n",
    "        plt.show()\n",
    "\n",
    "\n",
    "wt.register_callback(wt_selection)\n",
    "\n",
    "title_selector = widgets.Text(value='', placeholder='Title to use in plot', description='')\n",
    "\n",
    "display(wt)\n",
    "display(title_selector)\n",
    "display(output)"
   ]
  },
  {
   "cell_type": "code",
   "execution_count": 1,
   "id": "b97f6fcd-0bc0-4349-9b86-1fbaed5f14c5",
   "metadata": {},
   "outputs": [],
   "source": []
  },
  {
   "cell_type": "code",
   "execution_count": 1,
   "id": "bfabaa20-dc73-46c4-839b-9132fa2f54d1",
   "metadata": {},
   "outputs": [],
   "source": []
  }
 ],
 "metadata": {
  "kernelspec": {
   "display_name": "Python 3 (ipykernel)",
   "language": "python",
   "name": "python3"
  },
  "language_info": {
   "codemirror_mode": {
    "name": "ipython",
    "version": 3
   },
   "file_extension": ".py",
   "mimetype": "text/x-python",
   "name": "python",
   "nbconvert_exporter": "python",
   "pygments_lexer": "ipython3",
   "version": "3.8.10"
  }
 },
 "nbformat": 4,
 "nbformat_minor": 5
}
