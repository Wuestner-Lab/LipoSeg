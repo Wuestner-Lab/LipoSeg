{
 "cells": [
  {
   "cell_type": "code",
   "execution_count": 12,
   "id": "5710e7f9-a3ca-4aaf-8e70-7fd3d6543c9e",
   "metadata": {},
   "outputs": [
    {
     "data": {
      "application/vnd.jupyter.widget-view+json": {
       "model_id": "2fe2f6d9aab74846a223b09bc70168b9",
       "version_major": 2,
       "version_minor": 0
      },
      "text/plain": [
       "FileChooser(path='C:\\Users\\LAB-ADMIN\\Desktop\\pipeline-program\\analysis_results', filename='', title='WT distri…"
      ]
     },
     "metadata": {},
     "output_type": "display_data"
    },
    {
     "data": {
      "application/vnd.jupyter.widget-view+json": {
       "model_id": "a9722310e00b44b18ae85a312b285613",
       "version_major": 2,
       "version_minor": 0
      },
      "text/plain": [
       "FileChooser(path='C:\\Users\\LAB-ADMIN\\Desktop\\pipeline-program\\analysis_results', filename='', title='Distribut…"
      ]
     },
     "metadata": {},
     "output_type": "display_data"
    },
    {
     "data": {
      "application/vnd.jupyter.widget-view+json": {
       "model_id": "ef943b809ae3416abedd629675ef6f9a",
       "version_major": 2,
       "version_minor": 0
      },
      "text/plain": [
       "Text(value='', placeholder='Title to use in plot')"
      ]
     },
     "metadata": {},
     "output_type": "display_data"
    },
    {
     "data": {
      "application/vnd.jupyter.widget-view+json": {
       "model_id": "0b9ea002adc24e2ba04bb2efcd5ebafb",
       "version_major": 2,
       "version_minor": 0
      },
      "text/plain": [
       "Output()"
      ]
     },
     "metadata": {},
     "output_type": "display_data"
    }
   ],
   "source": [
    "import ipywidgets as widgets\n",
    "import matplotlib.pyplot as plt\n",
    "import numpy as np\n",
    "import pandas as pd\n",
    "from IPython.core.display import display\n",
    "from IPython.display import clear_output\n",
    "from ipyfilechooser import FileChooser\n",
    "from scipy import stats\n",
    "\n",
    "%matplotlib qt\n",
    "wt = FileChooser('C:/Users/LAB-ADMIN/Desktop/pipeline-program/analysis_results')\n",
    "wt.filter_pattern = ['wt_*.csv']\n",
    "wt.title = \"WT distribution\"\n",
    "wt_dist = None\n",
    "\n",
    "output = widgets.Output()\n",
    "\n",
    "\n",
    "def wt_selection(chooser):\n",
    "    with output:\n",
    "        display(f\"Selected: {chooser.selected_filename}\")\n",
    "\n",
    "\n",
    "wt.register_callback(wt_selection)\n",
    "\n",
    "title_selector = widgets.Text(value='', placeholder='Title to use in plot', description='')\n",
    "\n",
    "cmp = FileChooser('C:/Users/LAB-ADMIN/Desktop/pipeline-program/analysis_results')\n",
    "cmp.filter_pattern = ['wt_*.csv']\n",
    "cmp.title = \"Distribution to compare with\"\n",
    "cmp_dist = None\n",
    "\n",
    "voxel_size = 7.536e-6\n",
    "\n",
    "def cmp_selection(chooser):\n",
    "    if len(wt.selected) == 0:\n",
    "        with output:\n",
    "            display(\"Select WT first, since selecting the comparison runs the comparison algorithms.\")\n",
    "            display(wt.selected)\n",
    "    else:\n",
    "        with output:\n",
    "            clear_output()\n",
    "            display(f\"Statistics for {chooser.selected_filename}...\")\n",
    "            conditions = [\"wt\", \"ncr1\", \"npc2\"]\n",
    "            dist_list = []\n",
    "            for condition in conditions:\n",
    "                df1 = pd.read_csv(f\"{wt.selected_path}/{condition}{wt.selected_filename[2:]}\", index_col=False).iloc[:,\n",
    "                      1:]\n",
    "                df2 = pd.read_csv(f\"{chooser.selected_path}/{condition}{chooser.selected_filename[2:]}\",\n",
    "                                  index_col=False).iloc[:, 1:]\n",
    "                dist_list.append(np.array(df1)[:, 0] * voxel_size)\n",
    "                dist_list.append(np.array(df2)[:, 0] * voxel_size)\n",
    "\n",
    "            # get x values to plot\n",
    "            min_x = min(np.amin(dist) for dist in dist_list)\n",
    "            max_x = max(np.amax(dist) for dist in dist_list)\n",
    "            dif = max_x - min_x\n",
    "            xx = np.linspace(min_x - dif / 10, max_x + dif / 10, 10000)\n",
    "\n",
    "            # create plot\n",
    "            fig, axes = plt.subplots(figsize=(8 * len(conditions), 6), nrows=1, ncols=3)\n",
    "\n",
    "            cols = [\"blue\",\"orange\",\"green\"]\n",
    "            for i, cond in enumerate(conditions):\n",
    "                kde1 = stats.gaussian_kde(dist_list[i * 2])\n",
    "                kde2 = stats.gaussian_kde(dist_list[(i * 2) + 1])\n",
    "                y1 = kde1(xx)\n",
    "                y2 = kde2(xx)\n",
    "                axes[i].plot(xx, y1, color=cols[i], label=f\"{cond.upper()} unconsumed\")\n",
    "                axes[i].plot([], [], ' ', label=f\"mean volume {np.mean(dist_list[i * 2]).round(decimals=3)} µm³\")\n",
    "                axes[i].plot([], [], ' ', label=\" \")\n",
    "                axes[i].plot(xx, y2, \"--\", color=\"olive\", label=f\"{cond.upper()} consumed\")\n",
    "                axes[i].plot([], [], ' ', label=f\"mean volume {np.mean(dist_list[(i * 2) + 1]).round(decimals=3)} µm³\")\n",
    "                #axes[i].fill_between(xx,y1,y2)\n",
    "\n",
    "                axes[i].set_xlabel('volume µm³')\n",
    "                axes[i].set_ylabel('density')\n",
    "                #axes[i].set_title(f\"{cond.upper()}\")\n",
    "                axes[i].legend()\n",
    "            \n",
    "            #fig.suptitle(\"Consumed vs unconsumed volume distribution in S. cerevisiae\")\n",
    "            plt.show()\n",
    "\n",
    "\n",
    "\n",
    "cmp.register_callback(cmp_selection)\n",
    "\n",
    "display(wt)\n",
    "display(cmp)\n",
    "display(title_selector)\n",
    "display(output)"
   ]
  },
  {
   "cell_type": "code",
   "execution_count": 4,
   "id": "b97f6fcd-0bc0-4349-9b86-1fbaed5f14c5",
   "metadata": {},
   "outputs": [],
   "source": []
  }
 ],
 "metadata": {
  "kernelspec": {
   "display_name": "Python 3 (ipykernel)",
   "language": "python",
   "name": "python3"
  },
  "language_info": {
   "codemirror_mode": {
    "name": "ipython",
    "version": 3
   },
   "file_extension": ".py",
   "mimetype": "text/x-python",
   "name": "python",
   "nbconvert_exporter": "python",
   "pygments_lexer": "ipython3",
   "version": "3.8.10"
  }
 },
 "nbformat": 4,
 "nbformat_minor": 5
}
